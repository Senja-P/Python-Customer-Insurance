{
 "cells": [
  {
   "cell_type": "markdown",
   "id": "8e5bfb3f",
   "metadata": {},
   "source": [
    "## Machine Learning - Part 1; Regression Analysis\n",
    "\n",
    "### This script contains the following steps:\n",
    "\n",
    "### 1. Importing Libraries and Data\n",
    "### 2. Data Cleaning and Value Checking\n",
    "### 3. Hypothesis \n",
    "### 4. Data prep for regression analysis\n",
    "### 5. Regression Analysis\n"
   ]
  },
  {
   "cell_type": "markdown",
   "id": "96ff88c6",
   "metadata": {},
   "source": [
    "### 1. Importing Libraries and Data"
   ]
  },
  {
   "cell_type": "code",
   "execution_count": 1,
   "id": "098c9726",
   "metadata": {},
   "outputs": [],
   "source": [
    "import pandas as pd\n",
    "import numpy as np\n",
    "import seaborn as sns\n",
    "import matplotlib\n",
    "import matplotlib.pyplot as plt\n",
    "import os\n",
    "import sklearn\n",
    "from sklearn.model_selection import train_test_split \n",
    "from sklearn.linear_model import LinearRegression\n",
    "from sklearn.metrics import mean_squared_error, r2_score"
   ]
  },
  {
   "cell_type": "code",
   "execution_count": 2,
   "id": "0a7fa884",
   "metadata": {},
   "outputs": [],
   "source": [
    "# to ensure that the graphs are displayed within the notebook without the need to \"call\" them specifically.\n",
    "%matplotlib inline"
   ]
  },
  {
   "cell_type": "code",
   "execution_count": 3,
   "id": "a691dda5",
   "metadata": {},
   "outputs": [],
   "source": [
    "# Define path\n",
    "path = r'C:\\Users\\senja\\OneDrive\\Documents\\5. Learning\\6. Data Analytics Immersion\\WATSON'"
   ]
  },
  {
   "cell_type": "code",
   "execution_count": 4,
   "id": "f191f1f5",
   "metadata": {},
   "outputs": [
    {
     "data": {
      "text/plain": [
       "'C:\\\\Users\\\\senja\\\\OneDrive\\\\Documents\\\\5. Learning\\\\6. Data Analytics Immersion\\\\WATSON'"
      ]
     },
     "execution_count": 4,
     "metadata": {},
     "output_type": "execute_result"
    }
   ],
   "source": [
    "path"
   ]
  },
  {
   "cell_type": "code",
   "execution_count": 5,
   "id": "9d8ff3e7",
   "metadata": {},
   "outputs": [],
   "source": [
    "# Import data\n",
    "df = pd.read_excel(os.path.join(path, '02. Data\\WA_Customers.xlsx'))"
   ]
  },
  {
   "cell_type": "markdown",
   "id": "a94509db",
   "metadata": {},
   "source": [
    "### 2. Data Cleaning and Value Checking"
   ]
  },
  {
   "cell_type": "code",
   "execution_count": 6,
   "id": "a03fbc70",
   "metadata": {},
   "outputs": [
    {
     "data": {
      "text/plain": [
       "(9134, 20)"
      ]
     },
     "execution_count": 6,
     "metadata": {},
     "output_type": "execute_result"
    }
   ],
   "source": [
    "df.shape"
   ]
  },
  {
   "cell_type": "code",
   "execution_count": 7,
   "id": "8146e7d8",
   "metadata": {},
   "outputs": [
    {
     "data": {
      "text/plain": [
       "Customer ID                      0\n",
       "State                            0\n",
       "Location Code                    0\n",
       "Customer Lifetime Value          0\n",
       "Coverage                         0\n",
       "Education                        0\n",
       "Employment Status                0\n",
       "Gender                           0\n",
       "Income                           0\n",
       "Marital Status                   0\n",
       "Monthly Premium Auto             0\n",
       "Months Since Last Claim          0\n",
       "Months Since Policy Inception    0\n",
       "Number of Open Complaints        0\n",
       "Number of Policies               0\n",
       "Policy Type                      0\n",
       "Sales Channel                    0\n",
       "Total Claim Amount               0\n",
       "Vehicle Class                    0\n",
       "Vehicle Size                     0\n",
       "dtype: int64"
      ]
     },
     "execution_count": 7,
     "metadata": {},
     "output_type": "execute_result"
    }
   ],
   "source": [
    "# Check for missing values\n",
    "df.isnull().sum()  # No missing values"
   ]
  },
  {
   "cell_type": "code",
   "execution_count": 8,
   "id": "f8393cc4",
   "metadata": {},
   "outputs": [],
   "source": [
    "#Find duplicates\n",
    "df_dups = df[df.duplicated()]"
   ]
  },
  {
   "cell_type": "code",
   "execution_count": 9,
   "id": "8bfa8f14",
   "metadata": {},
   "outputs": [
    {
     "data": {
      "text/plain": [
       "(0, 20)"
      ]
     },
     "execution_count": 9,
     "metadata": {},
     "output_type": "execute_result"
    }
   ],
   "source": [
    "df_dups.shape # No duplicates"
   ]
  },
  {
   "cell_type": "code",
   "execution_count": 10,
   "id": "4215fb51",
   "metadata": {},
   "outputs": [
    {
     "name": "stdout",
     "output_type": "stream",
     "text": [
      "<class 'pandas.core.frame.DataFrame'>\n",
      "RangeIndex: 9134 entries, 0 to 9133\n",
      "Data columns (total 20 columns):\n",
      " #   Column                         Non-Null Count  Dtype  \n",
      "---  ------                         --------------  -----  \n",
      " 0   Customer ID                    9134 non-null   object \n",
      " 1   State                          9134 non-null   object \n",
      " 2   Location Code                  9134 non-null   object \n",
      " 3   Customer Lifetime Value        9134 non-null   float64\n",
      " 4   Coverage                       9134 non-null   object \n",
      " 5   Education                      9134 non-null   object \n",
      " 6   Employment Status              9134 non-null   object \n",
      " 7   Gender                         9134 non-null   object \n",
      " 8   Income                         9134 non-null   int64  \n",
      " 9   Marital Status                 9134 non-null   object \n",
      " 10  Monthly Premium Auto           9134 non-null   int64  \n",
      " 11  Months Since Last Claim        9134 non-null   int64  \n",
      " 12  Months Since Policy Inception  9134 non-null   int64  \n",
      " 13  Number of Open Complaints      9134 non-null   int64  \n",
      " 14  Number of Policies             9134 non-null   int64  \n",
      " 15  Policy Type                    9134 non-null   object \n",
      " 16  Sales Channel                  9134 non-null   object \n",
      " 17  Total Claim Amount             9134 non-null   float64\n",
      " 18  Vehicle Class                  9134 non-null   object \n",
      " 19  Vehicle Size                   9134 non-null   object \n",
      "dtypes: float64(2), int64(6), object(12)\n",
      "memory usage: 1.4+ MB\n"
     ]
    }
   ],
   "source": [
    "df.info()"
   ]
  },
  {
   "cell_type": "code",
   "execution_count": 11,
   "id": "b6d0a5bd",
   "metadata": {},
   "outputs": [
    {
     "data": {
      "text/html": [
       "<div>\n",
       "<style scoped>\n",
       "    .dataframe tbody tr th:only-of-type {\n",
       "        vertical-align: middle;\n",
       "    }\n",
       "\n",
       "    .dataframe tbody tr th {\n",
       "        vertical-align: top;\n",
       "    }\n",
       "\n",
       "    .dataframe thead th {\n",
       "        text-align: right;\n",
       "    }\n",
       "</style>\n",
       "<table border=\"1\" class=\"dataframe\">\n",
       "  <thead>\n",
       "    <tr style=\"text-align: right;\">\n",
       "      <th></th>\n",
       "      <th>Customer Lifetime Value</th>\n",
       "      <th>Income</th>\n",
       "      <th>Monthly Premium Auto</th>\n",
       "      <th>Months Since Last Claim</th>\n",
       "      <th>Months Since Policy Inception</th>\n",
       "      <th>Number of Open Complaints</th>\n",
       "      <th>Number of Policies</th>\n",
       "      <th>Total Claim Amount</th>\n",
       "    </tr>\n",
       "  </thead>\n",
       "  <tbody>\n",
       "    <tr>\n",
       "      <th>count</th>\n",
       "      <td>9134.000000</td>\n",
       "      <td>9134.000000</td>\n",
       "      <td>9134.000000</td>\n",
       "      <td>9134.000000</td>\n",
       "      <td>9134.000000</td>\n",
       "      <td>9134.000000</td>\n",
       "      <td>9134.000000</td>\n",
       "      <td>9134.000000</td>\n",
       "    </tr>\n",
       "    <tr>\n",
       "      <th>mean</th>\n",
       "      <td>8004.940475</td>\n",
       "      <td>37657.380009</td>\n",
       "      <td>93.219291</td>\n",
       "      <td>15.097000</td>\n",
       "      <td>48.064594</td>\n",
       "      <td>0.384388</td>\n",
       "      <td>2.966170</td>\n",
       "      <td>434.088794</td>\n",
       "    </tr>\n",
       "    <tr>\n",
       "      <th>std</th>\n",
       "      <td>6870.967608</td>\n",
       "      <td>30379.904734</td>\n",
       "      <td>34.407967</td>\n",
       "      <td>10.073257</td>\n",
       "      <td>27.905991</td>\n",
       "      <td>0.910384</td>\n",
       "      <td>2.390182</td>\n",
       "      <td>290.500092</td>\n",
       "    </tr>\n",
       "    <tr>\n",
       "      <th>min</th>\n",
       "      <td>1898.007675</td>\n",
       "      <td>0.000000</td>\n",
       "      <td>61.000000</td>\n",
       "      <td>0.000000</td>\n",
       "      <td>0.000000</td>\n",
       "      <td>0.000000</td>\n",
       "      <td>1.000000</td>\n",
       "      <td>0.099007</td>\n",
       "    </tr>\n",
       "    <tr>\n",
       "      <th>25%</th>\n",
       "      <td>3994.251794</td>\n",
       "      <td>0.000000</td>\n",
       "      <td>68.000000</td>\n",
       "      <td>6.000000</td>\n",
       "      <td>24.000000</td>\n",
       "      <td>0.000000</td>\n",
       "      <td>1.000000</td>\n",
       "      <td>272.258244</td>\n",
       "    </tr>\n",
       "    <tr>\n",
       "      <th>50%</th>\n",
       "      <td>5780.182197</td>\n",
       "      <td>33889.500000</td>\n",
       "      <td>83.000000</td>\n",
       "      <td>14.000000</td>\n",
       "      <td>48.000000</td>\n",
       "      <td>0.000000</td>\n",
       "      <td>2.000000</td>\n",
       "      <td>383.945434</td>\n",
       "    </tr>\n",
       "    <tr>\n",
       "      <th>75%</th>\n",
       "      <td>8962.167041</td>\n",
       "      <td>62320.000000</td>\n",
       "      <td>109.000000</td>\n",
       "      <td>23.000000</td>\n",
       "      <td>71.000000</td>\n",
       "      <td>0.000000</td>\n",
       "      <td>4.000000</td>\n",
       "      <td>547.514839</td>\n",
       "    </tr>\n",
       "    <tr>\n",
       "      <th>max</th>\n",
       "      <td>83325.381190</td>\n",
       "      <td>99981.000000</td>\n",
       "      <td>298.000000</td>\n",
       "      <td>35.000000</td>\n",
       "      <td>99.000000</td>\n",
       "      <td>5.000000</td>\n",
       "      <td>9.000000</td>\n",
       "      <td>2893.239678</td>\n",
       "    </tr>\n",
       "  </tbody>\n",
       "</table>\n",
       "</div>"
      ],
      "text/plain": [
       "       Customer Lifetime Value        Income  Monthly Premium Auto  \\\n",
       "count              9134.000000   9134.000000           9134.000000   \n",
       "mean               8004.940475  37657.380009             93.219291   \n",
       "std                6870.967608  30379.904734             34.407967   \n",
       "min                1898.007675      0.000000             61.000000   \n",
       "25%                3994.251794      0.000000             68.000000   \n",
       "50%                5780.182197  33889.500000             83.000000   \n",
       "75%                8962.167041  62320.000000            109.000000   \n",
       "max               83325.381190  99981.000000            298.000000   \n",
       "\n",
       "       Months Since Last Claim  Months Since Policy Inception  \\\n",
       "count              9134.000000                    9134.000000   \n",
       "mean                 15.097000                      48.064594   \n",
       "std                  10.073257                      27.905991   \n",
       "min                   0.000000                       0.000000   \n",
       "25%                   6.000000                      24.000000   \n",
       "50%                  14.000000                      48.000000   \n",
       "75%                  23.000000                      71.000000   \n",
       "max                  35.000000                      99.000000   \n",
       "\n",
       "       Number of Open Complaints  Number of Policies  Total Claim Amount  \n",
       "count                9134.000000         9134.000000         9134.000000  \n",
       "mean                    0.384388            2.966170          434.088794  \n",
       "std                     0.910384            2.390182          290.500092  \n",
       "min                     0.000000            1.000000            0.099007  \n",
       "25%                     0.000000            1.000000          272.258244  \n",
       "50%                     0.000000            2.000000          383.945434  \n",
       "75%                     0.000000            4.000000          547.514839  \n",
       "max                     5.000000            9.000000         2893.239678  "
      ]
     },
     "execution_count": 11,
     "metadata": {},
     "output_type": "execute_result"
    }
   ],
   "source": [
    "#check data\n",
    "df.describe()"
   ]
  },
  {
   "cell_type": "code",
   "execution_count": 12,
   "id": "4e17104f",
   "metadata": {},
   "outputs": [
    {
     "data": {
      "text/plain": [
       "5780.182197"
      ]
     },
     "execution_count": 12,
     "metadata": {},
     "output_type": "execute_result"
    }
   ],
   "source": [
    "#check the median \n",
    "df['Customer Lifetime Value'].median()"
   ]
  },
  {
   "cell_type": "code",
   "execution_count": 13,
   "id": "53277511",
   "metadata": {},
   "outputs": [
    {
     "data": {
      "text/plain": [
       "83.0"
      ]
     },
     "execution_count": 13,
     "metadata": {},
     "output_type": "execute_result"
    }
   ],
   "source": [
    "#check the median \n",
    "df['Monthly Premium Auto'].median()"
   ]
  },
  {
   "cell_type": "code",
   "execution_count": 14,
   "id": "afe5a125",
   "metadata": {},
   "outputs": [
    {
     "data": {
      "text/plain": [
       "14.0"
      ]
     },
     "execution_count": 14,
     "metadata": {},
     "output_type": "execute_result"
    }
   ],
   "source": [
    "#check the median \n",
    "df['Months Since Last Claim'].median()"
   ]
  },
  {
   "cell_type": "code",
   "execution_count": 15,
   "id": "77e1a898",
   "metadata": {},
   "outputs": [
    {
     "data": {
      "text/plain": [
       "48.0"
      ]
     },
     "execution_count": 15,
     "metadata": {},
     "output_type": "execute_result"
    }
   ],
   "source": [
    "#check the median \n",
    "df['Months Since Policy Inception'].median()"
   ]
  },
  {
   "cell_type": "code",
   "execution_count": 16,
   "id": "ba501e2e",
   "metadata": {},
   "outputs": [
    {
     "data": {
      "text/plain": [
       "2.0"
      ]
     },
     "execution_count": 16,
     "metadata": {},
     "output_type": "execute_result"
    }
   ],
   "source": [
    "#check the median \n",
    "df['Number of Policies'].median()"
   ]
  },
  {
   "cell_type": "code",
   "execution_count": 17,
   "id": "6406dc91",
   "metadata": {},
   "outputs": [
    {
     "data": {
      "text/plain": [
       "383.94543350000004"
      ]
     },
     "execution_count": 17,
     "metadata": {},
     "output_type": "execute_result"
    }
   ],
   "source": [
    "#check the median \n",
    "df['Total Claim Amount'].median()"
   ]
  },
  {
   "cell_type": "markdown",
   "id": "e5fa317e",
   "metadata": {},
   "source": [
    "- check the extreme values for those variables where mean and median are different as dataframe is probably skewed, excluding income. It is already known that approx. 40% of customers have not told their income or they do not have income  based on the previous analysis (income showing 0)"
   ]
  },
  {
   "cell_type": "code",
   "execution_count": 18,
   "id": "866c008a",
   "metadata": {},
   "outputs": [
    {
     "name": "stderr",
     "output_type": "stream",
     "text": [
      "C:\\Users\\senja\\anaconda3\\lib\\site-packages\\seaborn\\distributions.py:2557: FutureWarning: `distplot` is a deprecated function and will be removed in a future version. Please adapt your code to use either `displot` (a figure-level function with similar flexibility) or `histplot` (an axes-level function for histograms).\n",
      "  warnings.warn(msg, FutureWarning)\n"
     ]
    },
    {
     "data": {
      "text/plain": [
       "<AxesSubplot:xlabel='Customer Lifetime Value', ylabel='Density'>"
      ]
     },
     "execution_count": 18,
     "metadata": {},
     "output_type": "execute_result"
    },
    {
     "data": {
      "image/png": "[encoded data removed]",
      "text/plain": [
       "<Figure size 432x288 with 1 Axes>"
      ]
     },
     "metadata": {
      "needs_background": "light"
     },
     "output_type": "display_data"
    }
   ],
   "source": [
    "#check extreme values\n",
    "sns.distplot(df['Customer Lifetime Value'], bins=25)"
   ]
  },
  {
   "cell_type": "code",
   "execution_count": 19,
   "id": "50a89592",
   "metadata": {},
   "outputs": [
    {
     "name": "stderr",
     "output_type": "stream",
     "text": [
      "C:\\Users\\senja\\anaconda3\\lib\\site-packages\\seaborn\\distributions.py:2557: FutureWarning: `distplot` is a deprecated function and will be removed in a future version. Please adapt your code to use either `displot` (a figure-level function with similar flexibility) or `histplot` (an axes-level function for histograms).\n",
      "  warnings.warn(msg, FutureWarning)\n"
     ]
    },
    {
     "data": {
      "text/plain": [
       "<AxesSubplot:xlabel='Monthly Premium Auto', ylabel='Density'>"
      ]
     },
     "execution_count": 19,
     "metadata": {},
     "output_type": "execute_result"
    },
    {
     "data": {
      "image/png": "[encoded data removed]",
      "text/plain": [
       "<Figure size 432x288 with 1 Axes>"
      ]
     },
     "metadata": {
      "needs_background": "light"
     },
     "output_type": "display_data"
    }
   ],
   "source": [
    "#check extreme values\n",
    "sns.distplot(df['Monthly Premium Auto'], bins=25)"
   ]
  },
  {
   "cell_type": "code",
   "execution_count": 20,
   "id": "0ec7ec31",
   "metadata": {},
   "outputs": [
    {
     "name": "stderr",
     "output_type": "stream",
     "text": [
      "C:\\Users\\senja\\anaconda3\\lib\\site-packages\\seaborn\\distributions.py:2557: FutureWarning: `distplot` is a deprecated function and will be removed in a future version. Please adapt your code to use either `displot` (a figure-level function with similar flexibility) or `histplot` (an axes-level function for histograms).\n",
      "  warnings.warn(msg, FutureWarning)\n"
     ]
    },
    {
     "data": {
      "text/plain": [
       "<AxesSubplot:xlabel='Number of Policies', ylabel='Density'>"
      ]
     },
     "execution_count": 20,
     "metadata": {},
     "output_type": "execute_result"
    },
    {
     "data": {
      "image/png": "[encoded data removed]",
      "text/plain": [
       "<Figure size 432x288 with 1 Axes>"
      ]
     },
     "metadata": {
      "needs_background": "light"
     },
     "output_type": "display_data"
    }
   ],
   "source": [
    "#check extreme values\n",
    "sns.distplot(df['Number of Policies'], bins=10)"
   ]
  },
  {
   "cell_type": "code",
   "execution_count": 21,
   "id": "12db564e",
   "metadata": {},
   "outputs": [
    {
     "name": "stderr",
     "output_type": "stream",
     "text": [
      "C:\\Users\\senja\\anaconda3\\lib\\site-packages\\seaborn\\distributions.py:2557: FutureWarning: `distplot` is a deprecated function and will be removed in a future version. Please adapt your code to use either `displot` (a figure-level function with similar flexibility) or `histplot` (an axes-level function for histograms).\n",
      "  warnings.warn(msg, FutureWarning)\n"
     ]
    },
    {
     "data": {
      "text/plain": [
       "<AxesSubplot:xlabel='Total Claim Amount', ylabel='Density'>"
      ]
     },
     "execution_count": 21,
     "metadata": {},
     "output_type": "execute_result"
    },
    {
     "data": {
      "image/png": "[encoded data removed]",
      "text/plain": [
       "<Figure size 432x288 with 1 Axes>"
      ]
     },
     "metadata": {
      "needs_background": "light"
     },
     "output_type": "display_data"
    }
   ],
   "source": [
    "#check extreme values\n",
    "sns.distplot(df['Total Claim Amount'], bins=25)"
   ]
  },
  {
   "cell_type": "code",
   "execution_count": 22,
   "id": "14036bdc",
   "metadata": {},
   "outputs": [
    {
     "data": {
      "text/plain": [
       "0        2764.0\n",
       "1        6980.0\n",
       "2       12887.0\n",
       "3        7646.0\n",
       "4        2814.0\n",
       "         ...   \n",
       "9129    23406.0\n",
       "9130     3097.0\n",
       "9131     8164.0\n",
       "9132     7524.0\n",
       "9133     2612.0\n",
       "Name: Customer Lifetime Value, Length: 9134, dtype: float64"
      ]
     },
     "execution_count": 22,
     "metadata": {},
     "output_type": "execute_result"
    }
   ],
   "source": [
    "# round the desimals\n",
    "df['Customer Lifetime Value'].round(0)"
   ]
  },
  {
   "cell_type": "code",
   "execution_count": 23,
   "id": "228217f5",
   "metadata": {},
   "outputs": [
    {
     "data": {
      "text/plain": [
       "0        385.0\n",
       "1       1131.0\n",
       "2        566.0\n",
       "3        530.0\n",
       "4        138.0\n",
       "         ...  \n",
       "9129     198.0\n",
       "9130     379.0\n",
       "9131     791.0\n",
       "9132     691.0\n",
       "9133     370.0\n",
       "Name: Total Claim Amount, Length: 9134, dtype: float64"
      ]
     },
     "execution_count": 23,
     "metadata": {},
     "output_type": "execute_result"
    }
   ],
   "source": [
    "# round the desimals\n",
    "df['Total Claim Amount'].round(0)"
   ]
  },
  {
   "cell_type": "code",
   "execution_count": 24,
   "id": "0e51038a",
   "metadata": {},
   "outputs": [
    {
     "data": {
      "text/plain": [
       "0        69\n",
       "1        94\n",
       "2       108\n",
       "3       106\n",
       "4        73\n",
       "       ... \n",
       "9129     73\n",
       "9130     79\n",
       "9131     85\n",
       "9132     96\n",
       "9133     77\n",
       "Name: Monthly Premium Auto, Length: 9134, dtype: int64"
      ]
     },
     "execution_count": 24,
     "metadata": {},
     "output_type": "execute_result"
    }
   ],
   "source": [
    "# round the desimals\n",
    "df['Monthly Premium Auto'].round(0)"
   ]
  },
  {
   "cell_type": "markdown",
   "id": "a63f748d",
   "metadata": {},
   "source": [
    "### 3. Hypothesis "
   ]
  },
  {
   "cell_type": "markdown",
   "id": "4136c452",
   "metadata": {},
   "source": [
    "### \"The total amount of claim increases, as the customers' monthly payment also rises\" "
   ]
  },
  {
   "cell_type": "markdown",
   "id": "67835d08",
   "metadata": {},
   "source": [
    "### 4. Data prep for regression analysis "
   ]
  },
  {
   "cell_type": "markdown",
   "id": "0942f99a",
   "metadata": {},
   "source": [
    "- X is generally capitalized while y isn’t. This standardised notation across the board for independent and dependent variables is used in this analysis"
   ]
  },
  {
   "cell_type": "code",
   "execution_count": 25,
   "id": "8bc14dba",
   "metadata": {},
   "outputs": [
    {
     "data": {
      "image/png": "[encoded data removed]",
      "text/plain": [
       "<Figure size 432x288 with 1 Axes>"
      ]
     },
     "metadata": {
      "needs_background": "light"
     },
     "output_type": "display_data"
    }
   ],
   "source": [
    "# Create a scatterplot using matplotlib for a look at how the chosen variables plot against each other.\n",
    "\n",
    "df.plot(x = 'Total Claim Amount', y='Monthly Premium Auto',style='o') # The style option creates a scatterplot; without it, I only have lines.\n",
    "plt.title('Total Claims vs Monthly Insurance Payments')  \n",
    "plt.xlabel('Total Claims')  \n",
    "plt.ylabel('Monthly Insurance Payments')  \n",
    "plt.show()"
   ]
  },
  {
   "cell_type": "code",
   "execution_count": 26,
   "id": "1a57886d",
   "metadata": {},
   "outputs": [],
   "source": [
    "# Reshape the variables into NumPy arrays and put them into separate objects.\n",
    "X = df['Total Claim Amount'].values.reshape(-1,1)\n",
    "y = df['Monthly Premium Auto'].values.reshape(-1,1)"
   ]
  },
  {
   "cell_type": "code",
   "execution_count": 27,
   "id": "369460cb",
   "metadata": {},
   "outputs": [
    {
     "data": {
      "text/plain": [
       "array([[ 384.811147],\n",
       "       [1131.464935],\n",
       "       [ 566.472247],\n",
       "       ...,\n",
       "       [ 790.784983],\n",
       "       [ 691.2     ],\n",
       "       [ 369.6     ]])"
      ]
     },
     "execution_count": 27,
     "metadata": {},
     "output_type": "execute_result"
    }
   ],
   "source": [
    "X"
   ]
  },
  {
   "cell_type": "code",
   "execution_count": 28,
   "id": "a3dbfb8e",
   "metadata": {},
   "outputs": [
    {
     "data": {
      "text/plain": [
       "array([[ 69],\n",
       "       [ 94],\n",
       "       [108],\n",
       "       ...,\n",
       "       [ 85],\n",
       "       [ 96],\n",
       "       [ 77]], dtype=int64)"
      ]
     },
     "execution_count": 28,
     "metadata": {},
     "output_type": "execute_result"
    }
   ],
   "source": [
    "y"
   ]
  },
  {
   "cell_type": "markdown",
   "id": "a10d64fb",
   "metadata": {},
   "source": [
    "- Size of the training set is larger than test set. The test data set size in this analysis will include 30% of the data. Thus making the training set 70% of the data"
   ]
  },
  {
   "cell_type": "code",
   "execution_count": 29,
   "id": "0ebdc8b1",
   "metadata": {},
   "outputs": [],
   "source": [
    "# Split data into a training set and a test set\n",
    "X_train, X_test, y_train, y_test = train_test_split(X, y, test_size=0.3, random_state=0)"
   ]
  },
  {
   "cell_type": "markdown",
   "id": "a98fb498",
   "metadata": {},
   "source": [
    "### 5. Regression Analysis"
   ]
  },
  {
   "cell_type": "markdown",
   "id": "26184b7f",
   "metadata": {},
   "source": [
    "- firstly, the model to be fit in training dataset followed by a test on test dataset\n"
   ]
  },
  {
   "cell_type": "code",
   "execution_count": 30,
   "id": "26c895d6",
   "metadata": {},
   "outputs": [],
   "source": [
    "# Create a regression object, which will be fit onto a training set\n",
    "regression = LinearRegression()"
   ]
  },
  {
   "cell_type": "code",
   "execution_count": 31,
   "id": "20a0ead2",
   "metadata": {},
   "outputs": [
    {
     "data": {
      "text/plain": [
       "LinearRegression()"
      ]
     },
     "execution_count": 31,
     "metadata": {},
     "output_type": "execute_result"
    }
   ],
   "source": [
    "# Fit the regression object onto the training set\n",
    "regression.fit(X_train, y_train)"
   ]
  },
  {
   "cell_type": "code",
   "execution_count": 32,
   "id": "7b534322",
   "metadata": {},
   "outputs": [],
   "source": [
    "# Predict - This is predicting X_train\n",
    "y_predicted_train = regression.predict(X_train)"
   ]
  },
  {
   "cell_type": "code",
   "execution_count": 33,
   "id": "9265aa96",
   "metadata": {},
   "outputs": [],
   "source": [
    "rmse = mean_squared_error(y_train, y_predicted_train)\n",
    "r2 = r2_score(y_train, y_predicted_train)"
   ]
  },
  {
   "cell_type": "code",
   "execution_count": 34,
   "id": "955a165a",
   "metadata": {},
   "outputs": [
    {
     "name": "stdout",
     "output_type": "stream",
     "text": [
      "Slope: [[0.07551398]]\n",
      "Mean squared error:  713.9104700328122\n",
      "R2 score:  0.40286552484225446\n"
     ]
    }
   ],
   "source": [
    "print('Slope:' ,regression.coef_)\n",
    "print('Mean squared error: ', rmse)\n",
    "print('R2 score: ', r2)"
   ]
  },
  {
   "cell_type": "code",
   "execution_count": 35,
   "id": "f86cf82a",
   "metadata": {},
   "outputs": [
    {
     "data": {
      "image/png": "[encoded data removed]",
      "text/plain": [
       "<Figure size 432x288 with 1 Axes>"
      ]
     },
     "metadata": {
      "needs_background": "light"
     },
     "output_type": "display_data"
    }
   ],
   "source": [
    "# Visualising the training set results\n",
    "plot_test = plt\n",
    "plot_test.scatter(X_train, y_train, color='green', s = 15)\n",
    "plot_test.plot(X_train, y_predicted_train, color='red', linewidth =3)\n",
    "plot_test.title('Total Claims vs Monthly Insurance Payments (Training set)')\n",
    "plot_test.xlabel('Total Claims')\n",
    "plot_test.ylabel('Monthly Insurance Payments')\n",
    "plot_test.show()"
   ]
  },
  {
   "cell_type": "code",
   "execution_count": 36,
   "id": "27933e29",
   "metadata": {},
   "outputs": [
    {
     "data": {
      "text/plain": [
       "(6393, 1)"
      ]
     },
     "execution_count": 36,
     "metadata": {},
     "output_type": "execute_result"
    }
   ],
   "source": [
    "X_train.shape"
   ]
  },
  {
   "cell_type": "markdown",
   "id": "3911e685",
   "metadata": {},
   "source": [
    "#### Compare how the regression fits the test set"
   ]
  },
  {
   "cell_type": "code",
   "execution_count": 37,
   "id": "85b17238",
   "metadata": {},
   "outputs": [],
   "source": [
    "# Predict the values of y using X - This is predicting X_test\n",
    "y_predicted = regression.predict(X_test)"
   ]
  },
  {
   "cell_type": "code",
   "execution_count": 38,
   "id": "cabab382",
   "metadata": {},
   "outputs": [
    {
     "data": {
      "image/png": "[encoded data removed]",
      "text/plain": [
       "<Figure size 432x288 with 1 Axes>"
      ]
     },
     "metadata": {
      "needs_background": "light"
     },
     "output_type": "display_data"
    }
   ],
   "source": [
    "# Create a plot that shows the regression line from the model on the test set.\n",
    "\n",
    "plot_test = plt\n",
    "plot_test.scatter(X_test, y_test, color='gray', s = 15)\n",
    "plot_test.plot(X_test, y_predicted, color='red', linewidth =3)\n",
    "plot_test.title('Total Claims vs Monthly Insurance Payments (Test set)')\n",
    "plot_test.xlabel('Total Claims')\n",
    "plot_test.ylabel('Monthly Insurance Payments')\n",
    "plot_test.show()"
   ]
  },
  {
   "cell_type": "code",
   "execution_count": 39,
   "id": "69be9e13",
   "metadata": {},
   "outputs": [],
   "source": [
    "# Create objects that contain the model summary statistics; Mean squared error to and R2 score\n",
    "rmse = mean_squared_error(y_test, y_predicted) \n",
    "r2 = r2_score(y_test, y_predicted)"
   ]
  },
  {
   "cell_type": "code",
   "execution_count": 40,
   "id": "621caa3c",
   "metadata": {},
   "outputs": [
    {
     "name": "stdout",
     "output_type": "stream",
     "text": [
      "Slope: [[0.07551398]]\n",
      "Mean squared error:  704.082164030269\n",
      "R2 score:  0.39103292749470986\n"
     ]
    }
   ],
   "source": [
    "# Print the model summary statistics in order to evaluate the performance of the model.\n",
    "print('Slope:' ,regression.coef_)\n",
    "print('Mean squared error: ', rmse)\n",
    "print('R2 score: ', r2)"
   ]
  },
  {
   "cell_type": "code",
   "execution_count": 41,
   "id": "72a9fba9",
   "metadata": {},
   "outputs": [
    {
     "data": {
      "text/plain": [
       "array([[ 85.84013277],\n",
       "       [ 97.43908049],\n",
       "       [103.60102147],\n",
       "       ...,\n",
       "       [156.5625204 ],\n",
       "       [ 78.47884285],\n",
       "       [ 86.565067  ]])"
      ]
     },
     "execution_count": 41,
     "metadata": {},
     "output_type": "execute_result"
    }
   ],
   "source": [
    "y_predicted"
   ]
  },
  {
   "cell_type": "code",
   "execution_count": 42,
   "id": "fb073e62",
   "metadata": {},
   "outputs": [
    {
     "data": {
      "text/html": [
       "<div>\n",
       "<style scoped>\n",
       "    .dataframe tbody tr th:only-of-type {\n",
       "        vertical-align: middle;\n",
       "    }\n",
       "\n",
       "    .dataframe tbody tr th {\n",
       "        vertical-align: top;\n",
       "    }\n",
       "\n",
       "    .dataframe thead th {\n",
       "        text-align: right;\n",
       "    }\n",
       "</style>\n",
       "<table border=\"1\" class=\"dataframe\">\n",
       "  <thead>\n",
       "    <tr style=\"text-align: right;\">\n",
       "      <th></th>\n",
       "      <th>Actual</th>\n",
       "      <th>Predicted</th>\n",
       "    </tr>\n",
       "  </thead>\n",
       "  <tbody>\n",
       "    <tr>\n",
       "      <th>0</th>\n",
       "      <td>70</td>\n",
       "      <td>85.840133</td>\n",
       "    </tr>\n",
       "    <tr>\n",
       "      <th>1</th>\n",
       "      <td>68</td>\n",
       "      <td>97.439080</td>\n",
       "    </tr>\n",
       "    <tr>\n",
       "      <th>2</th>\n",
       "      <td>119</td>\n",
       "      <td>103.601021</td>\n",
       "    </tr>\n",
       "    <tr>\n",
       "      <th>3</th>\n",
       "      <td>239</td>\n",
       "      <td>278.947485</td>\n",
       "    </tr>\n",
       "    <tr>\n",
       "      <th>4</th>\n",
       "      <td>126</td>\n",
       "      <td>128.973720</td>\n",
       "    </tr>\n",
       "    <tr>\n",
       "      <th>5</th>\n",
       "      <td>116</td>\n",
       "      <td>118.278425</td>\n",
       "    </tr>\n",
       "    <tr>\n",
       "      <th>6</th>\n",
       "      <td>112</td>\n",
       "      <td>92.164496</td>\n",
       "    </tr>\n",
       "    <tr>\n",
       "      <th>7</th>\n",
       "      <td>94</td>\n",
       "      <td>89.655117</td>\n",
       "    </tr>\n",
       "    <tr>\n",
       "      <th>8</th>\n",
       "      <td>93</td>\n",
       "      <td>94.176876</td>\n",
       "    </tr>\n",
       "    <tr>\n",
       "      <th>9</th>\n",
       "      <td>88</td>\n",
       "      <td>108.313094</td>\n",
       "    </tr>\n",
       "    <tr>\n",
       "      <th>10</th>\n",
       "      <td>127</td>\n",
       "      <td>93.883964</td>\n",
       "    </tr>\n",
       "    <tr>\n",
       "      <th>11</th>\n",
       "      <td>100</td>\n",
       "      <td>96.714146</td>\n",
       "    </tr>\n",
       "    <tr>\n",
       "      <th>12</th>\n",
       "      <td>65</td>\n",
       "      <td>95.232559</td>\n",
       "    </tr>\n",
       "    <tr>\n",
       "      <th>13</th>\n",
       "      <td>108</td>\n",
       "      <td>99.613883</td>\n",
       "    </tr>\n",
       "    <tr>\n",
       "      <th>14</th>\n",
       "      <td>74</td>\n",
       "      <td>84.375103</td>\n",
       "    </tr>\n",
       "    <tr>\n",
       "      <th>15</th>\n",
       "      <td>72</td>\n",
       "      <td>94.454776</td>\n",
       "    </tr>\n",
       "    <tr>\n",
       "      <th>16</th>\n",
       "      <td>70</td>\n",
       "      <td>92.580987</td>\n",
       "    </tr>\n",
       "    <tr>\n",
       "      <th>17</th>\n",
       "      <td>69</td>\n",
       "      <td>97.982781</td>\n",
       "    </tr>\n",
       "    <tr>\n",
       "      <th>18</th>\n",
       "      <td>78</td>\n",
       "      <td>70.046929</td>\n",
       "    </tr>\n",
       "    <tr>\n",
       "      <th>19</th>\n",
       "      <td>136</td>\n",
       "      <td>130.969151</td>\n",
       "    </tr>\n",
       "    <tr>\n",
       "      <th>20</th>\n",
       "      <td>92</td>\n",
       "      <td>71.846922</td>\n",
       "    </tr>\n",
       "    <tr>\n",
       "      <th>21</th>\n",
       "      <td>106</td>\n",
       "      <td>92.135428</td>\n",
       "    </tr>\n",
       "    <tr>\n",
       "      <th>22</th>\n",
       "      <td>63</td>\n",
       "      <td>85.212257</td>\n",
       "    </tr>\n",
       "    <tr>\n",
       "      <th>23</th>\n",
       "      <td>116</td>\n",
       "      <td>115.019091</td>\n",
       "    </tr>\n",
       "    <tr>\n",
       "      <th>24</th>\n",
       "      <td>63</td>\n",
       "      <td>83.302863</td>\n",
       "    </tr>\n",
       "    <tr>\n",
       "      <th>25</th>\n",
       "      <td>78</td>\n",
       "      <td>102.876087</td>\n",
       "    </tr>\n",
       "    <tr>\n",
       "      <th>26</th>\n",
       "      <td>103</td>\n",
       "      <td>97.801548</td>\n",
       "    </tr>\n",
       "    <tr>\n",
       "      <th>27</th>\n",
       "      <td>74</td>\n",
       "      <td>92.102296</td>\n",
       "    </tr>\n",
       "    <tr>\n",
       "      <th>28</th>\n",
       "      <td>95</td>\n",
       "      <td>64.256088</td>\n",
       "    </tr>\n",
       "    <tr>\n",
       "      <th>29</th>\n",
       "      <td>61</td>\n",
       "      <td>61.973106</td>\n",
       "    </tr>\n",
       "  </tbody>\n",
       "</table>\n",
       "</div>"
      ],
      "text/plain": [
       "    Actual   Predicted\n",
       "0       70   85.840133\n",
       "1       68   97.439080\n",
       "2      119  103.601021\n",
       "3      239  278.947485\n",
       "4      126  128.973720\n",
       "5      116  118.278425\n",
       "6      112   92.164496\n",
       "7       94   89.655117\n",
       "8       93   94.176876\n",
       "9       88  108.313094\n",
       "10     127   93.883964\n",
       "11     100   96.714146\n",
       "12      65   95.232559\n",
       "13     108   99.613883\n",
       "14      74   84.375103\n",
       "15      72   94.454776\n",
       "16      70   92.580987\n",
       "17      69   97.982781\n",
       "18      78   70.046929\n",
       "19     136  130.969151\n",
       "20      92   71.846922\n",
       "21     106   92.135428\n",
       "22      63   85.212257\n",
       "23     116  115.019091\n",
       "24      63   83.302863\n",
       "25      78  102.876087\n",
       "26     103   97.801548\n",
       "27      74   92.102296\n",
       "28      95   64.256088\n",
       "29      61   61.973106"
      ]
     },
     "execution_count": 42,
     "metadata": {},
     "output_type": "execute_result"
    }
   ],
   "source": [
    "# Create a dataframe comparing the actual and predicted values of y.\n",
    "data = pd.DataFrame({'Actual': y_test.flatten(), 'Predicted': y_predicted.flatten()})\n",
    "data.head(30)"
   ]
  },
  {
   "cell_type": "code",
   "execution_count": 43,
   "id": "d6974880",
   "metadata": {},
   "outputs": [
    {
     "data": {
      "text/plain": [
       "(2741, 1)"
      ]
     },
     "execution_count": 43,
     "metadata": {},
     "output_type": "execute_result"
    }
   ],
   "source": [
    "X_test.shape"
   ]
  },
  {
   "cell_type": "markdown",
   "id": "a1b8eae4",
   "metadata": {},
   "source": [
    "#### check performance improvement after removing outliers"
   ]
  },
  {
   "cell_type": "markdown",
   "id": "b1658454",
   "metadata": {},
   "source": [
    "- The Empirical Rule used to identify the extreme outliners, as the data is spread and previous consistency checks/histograms do not provide accurate extreme values.\n",
    "- The Empirical rule; The 95% of the data lies between ± 2 SD, 24.403357 and 162.035225, \n",
    "- Only extreme values above 162 excluded. All values under 162 will be included as this is related to monthly premium payments. "
   ]
  },
  {
   "cell_type": "code",
   "execution_count": 44,
   "id": "1bf4158a",
   "metadata": {},
   "outputs": [],
   "source": [
    "# Clean the extreme values from the \"monthly premium auto\" payment variable\n",
    "df_test = df[df['Monthly Premium Auto'] <=162]"
   ]
  },
  {
   "cell_type": "code",
   "execution_count": 45,
   "id": "90183c20",
   "metadata": {},
   "outputs": [
    {
     "data": {
      "image/png": "[encoded data removed]",
      "text/plain": [
       "<Figure size 432x288 with 1 Axes>"
      ]
     },
     "metadata": {
      "needs_background": "light"
     },
     "output_type": "display_data"
    }
   ],
   "source": [
    "# check how the scatterplot looks without outliers.\n",
    "df_test.plot(x = 'Total Claim Amount', y='Monthly Premium Auto', style='o')  \n",
    "plt.title('Total Claims vs Monthly Insurance Payments - without outliners')  \n",
    "plt.xlabel('Total Claims')  \n",
    "plt.ylabel('Monthly Insurance Payments')  \n",
    "plt.show()"
   ]
  },
  {
   "cell_type": "code",
   "execution_count": 46,
   "id": "bb5dafc1",
   "metadata": {},
   "outputs": [],
   "source": [
    "# Reshape again\n",
    "X_2 = df_test['Total Claim Amount'].values.reshape(-1,1)\n",
    "y_2 = df_test['Monthly Premium Auto'].values.reshape(-1,1)"
   ]
  },
  {
   "cell_type": "code",
   "execution_count": 47,
   "id": "f82317f9",
   "metadata": {},
   "outputs": [],
   "source": [
    "X_train_2, X_test_2, y_train_2, y_test_2 = train_test_split(X_2, y_2, test_size=0.3, random_state=0)"
   ]
  },
  {
   "cell_type": "code",
   "execution_count": 48,
   "id": "e8ecb019",
   "metadata": {},
   "outputs": [
    {
     "data": {
      "text/plain": [
       "LinearRegression()"
      ]
     },
     "execution_count": 48,
     "metadata": {},
     "output_type": "execute_result"
    }
   ],
   "source": [
    "# Run and fit the regression.\n",
    "regression = LinearRegression()  \n",
    "regression.fit(X_train_2, y_train_2)"
   ]
  },
  {
   "cell_type": "code",
   "execution_count": 49,
   "id": "e3ed7074",
   "metadata": {},
   "outputs": [],
   "source": [
    "# Predict\n",
    "y_predicted_2 = regression.predict(X_test_2)"
   ]
  },
  {
   "cell_type": "code",
   "execution_count": 50,
   "id": "f526a799",
   "metadata": {},
   "outputs": [],
   "source": [
    "rmse = mean_squared_error(y_test_2, y_predicted_2)\n",
    "r2 = r2_score(y_test_2, y_predicted_2)"
   ]
  },
  {
   "cell_type": "code",
   "execution_count": 51,
   "id": "ec4df538",
   "metadata": {},
   "outputs": [
    {
     "name": "stdout",
     "output_type": "stream",
     "text": [
      "Slope: [[0.04622374]]\n",
      "Mean squared error:  399.24206551214667\n",
      "R2 score:  0.2137501208588689\n"
     ]
    }
   ],
   "source": [
    "print('Slope:' ,regression.coef_)\n",
    "print('Mean squared error: ', rmse)\n",
    "print('R2 score: ', r2)"
   ]
  },
  {
   "cell_type": "code",
   "execution_count": 52,
   "id": "3930fc13",
   "metadata": {},
   "outputs": [
    {
     "data": {
      "image/png": "[encoded data removed]",
      "text/plain": [
       "<Figure size 432x288 with 1 Axes>"
      ]
     },
     "metadata": {
      "needs_background": "light"
     },
     "output_type": "display_data"
    }
   ],
   "source": [
    "# Visualizing the test set results for the regression without outliners / values >250\n",
    "plot_test = plt\n",
    "plot_test.scatter(X_test_2, y_test_2, color='orange', s = 15)\n",
    "plot_test.plot(X_train_2, regression.predict(X_train_2), color='red', linewidth =3)\n",
    "plot_test.title('Total Claims vs Monthly Insurance Payments - without outliners (Test set)')\n",
    "plot_test.xlabel('Total Claims')\n",
    "plot_test.ylabel('Monthly Premium Payments')\n",
    "plot_test.show()"
   ]
  },
  {
   "cell_type": "code",
   "execution_count": 53,
   "id": "0ea02d68",
   "metadata": {},
   "outputs": [
    {
     "data": {
      "text/plain": [
       "(2603, 1)"
      ]
     },
     "execution_count": 53,
     "metadata": {},
     "output_type": "execute_result"
    }
   ],
   "source": [
    "X_test_2.shape"
   ]
  },
  {
   "cell_type": "markdown",
   "id": "ad87c500",
   "metadata": {},
   "source": [
    "#### Analysis "
   ]
  },
  {
   "cell_type": "markdown",
   "id": "9a719a8a",
   "metadata": {},
   "source": [
    "-  The root mean squared error (MSE) is an estimator that measures the average of the squared difference between the estimated values and the true values. It tells how close a regression line is to a set of points. Smaller the MSE error number is the more efficient the model is as it means that the regression line passes fairly close to the observations, making it a good fit. Mean squared error is 713 in the test set. There are 9134 total datapoints, and the mean is 93.21, meaning that 713 indicates the larger distance away from the regression line (It is easily spotted on the graph). This means that the regression line isn't an accurate representation of the data. The actual and predicted y values are quite difference as well."
   ]
  },
  {
   "cell_type": "markdown",
   "id": "be7d6f10",
   "metadata": {},
   "source": [
    "- This model has a R-squared value of 0.402 (in test set) meaning that this model explains 0.42 % of the variance in dependent variable (monthly premium auto payment). The training set and test set without outliners showed lower percentages, meaning that they fit even worse than the test set. Thus, this model does not predict very well the relationships; the total claim amounts do not predict the total premium auto payment, and the hypothesis is only partially true."
   ]
  },
  {
   "cell_type": "markdown",
   "id": "1879a6b8",
   "metadata": {},
   "source": [
    "- Data biases; the dataset itself is based on one month data collection and it might not provide the best possible overall picture of all claim amounts. In addition, the dataset does not include the number of claims (only the total claim values). The high number of the actual claims could have a higher impact on the monthly premium payment than the total claim amounts. \n",
    "- The prediction could be more accurate if more datasets and tests result were available, e.g. if the same test had implemented by using data from other months. "
   ]
  }
 ],
 "metadata": {
  "kernelspec": {
   "display_name": "Python 3",
   "language": "python",
   "name": "python3"
  },
  "language_info": {
   "codemirror_mode": {
    "name": "ipython",
    "version": 3
   },
   "file_extension": ".py",
   "mimetype": "text/x-python",
   "name": "python",
   "nbconvert_exporter": "python",
   "pygments_lexer": "ipython3",
   "version": "3.8.8"
  }
 },
 "nbformat": 4,
 "nbformat_minor": 5
}
